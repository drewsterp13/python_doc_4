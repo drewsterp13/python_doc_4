{
 "cells": [
  {
   "cell_type": "markdown",
   "metadata": {},
   "source": [
    "# Object-Oriented-Programming (OOP)"
   ]
  },
  {
   "cell_type": "markdown",
   "metadata": {},
   "source": [
    "## Tasks Today:\n",
    "\n",
    "   \n",
    "\n",
    "1) <b>Creating a Class (Initializing/Declaring)</b> <br>\n",
    "2) <b>Using a Class (Instantiating)</b> <br>\n",
    " &nbsp;&nbsp;&nbsp;&nbsp; a) Creating One Instance <br>\n",
    " &nbsp;&nbsp;&nbsp;&nbsp; b) Creating Multiple Instances <br>\n",
    " &nbsp;&nbsp;&nbsp;&nbsp; c) In-Class Exercise #1 - Create a Class 'Car' and instantiate three different makes of cars <br>\n",
    "3) <b>The \\__init\\__() Method</b> <br>\n",
    " &nbsp;&nbsp;&nbsp;&nbsp; a) The 'self' Attribute <br>\n",
    "4) <b>Class Attributes</b> <br>\n",
    " &nbsp;&nbsp;&nbsp;&nbsp; a) Initializing Attributes <br>\n",
    " &nbsp;&nbsp;&nbsp;&nbsp; b) Setting an Attribute Outside of the \\__init\\__() Method <br>\n",
    " &nbsp;&nbsp;&nbsp;&nbsp; c) Setting Defaults for Attributes <br>\n",
    " &nbsp;&nbsp;&nbsp;&nbsp; d) Accessing Class Attributes <br>\n",
    " &nbsp;&nbsp;&nbsp;&nbsp; e) Changing Class Attributes <br>\n",
    " &nbsp;&nbsp;&nbsp;&nbsp; f) In-Class Exercise #2 - Add a color and wheels attribute to your 'Car' class <br>\n",
    "5) <b>Class Methods</b> <br>\n",
    " &nbsp;&nbsp;&nbsp;&nbsp; a) Creating <br>\n",
    " &nbsp;&nbsp;&nbsp;&nbsp; b) Calling <br>\n",
    " &nbsp;&nbsp;&nbsp;&nbsp; c) Modifying an Attribute's Value Through a Method <br>\n",
    " &nbsp;&nbsp;&nbsp;&nbsp; d) Incrementing an Attribute's Value Through a Method <br>\n",
    " &nbsp;&nbsp;&nbsp;&nbsp; e) In-Class Exercise #3 - Add a method that prints the cars color and wheel number, then call them <br>\n",
    "6) <b>Inheritance</b> <br>\n",
    " &nbsp;&nbsp;&nbsp;&nbsp; a) Syntax for Inheriting from a Parent Class <br>\n",
    " &nbsp;&nbsp;&nbsp;&nbsp; b) The \\__init\\__() Method for a Child Class (super()) <br>\n",
    " &nbsp;&nbsp;&nbsp;&nbsp; c) Defining Attributes and Methods for the Child Class <br>\n",
    " &nbsp;&nbsp;&nbsp;&nbsp; d) Method Overriding <br>\n",
    " &nbsp;&nbsp;&nbsp;&nbsp; e) In-Class Exercise #4 - Create a class 'Ford' that inherits from 'Car' class and initialize it as a Blue Ford Explorer with 4 wheels using the super() method <br>\n",
    "7) <b>Classes as Attributes</b> <br>\n",
    "8) <b>Exercises</b> <br>\n",
    " &nbsp;&nbsp;&nbsp;&nbsp; a) Exercise #1 - Turn the shopping cart program from yesterday into an object-oriented program <br>"
   ]
  },
  {
   "cell_type": "markdown",
   "metadata": {},
   "source": [
    "## Creating a Class (Initializing/Declaring)\n",
    "<p>When creating a class, function, or even a variable you are initializing that object. Initializing and Declaring occur at the same time in Python, whereas in lower level languages you have to declare an object before initializing it. This is the first step in the process of using a class.</p>"
   ]
  },
  {
   "cell_type": "code",
   "execution_count": 4,
   "metadata": {},
   "outputs": [],
   "source": [
    "class Car():\n",
    "    wheels = 4\n",
    "    color = 'blue'"
   ]
  },
  {
   "cell_type": "markdown",
   "metadata": {},
   "source": [
    "## Using a Class (Instantiating)\n",
    "<p>The process of creating a class is called <i>Instantiating</i>. Each time you create a variable of that type of class, it is referred to as an <i>Instance</i> of that class. This is the second step in the process of using a class.</p>"
   ]
  },
  {
   "cell_type": "markdown",
   "metadata": {},
   "source": [
    "##### Creating One Instance"
   ]
  },
  {
   "cell_type": "code",
   "execution_count": 8,
   "metadata": {},
   "outputs": [
    {
     "name": "stdout",
     "output_type": "stream",
     "text": [
      "blue\n"
     ]
    }
   ],
   "source": [
    "ford = Car()\n",
    "\n",
    "print(ford.color)"
   ]
  },
  {
   "cell_type": "markdown",
   "metadata": {},
   "source": [
    "##### Creating Multiple Instances"
   ]
  },
  {
   "cell_type": "code",
   "execution_count": 6,
   "metadata": {},
   "outputs": [],
   "source": [
    "bmw = Car()\n",
    "honda = Car()\n",
    "porsche = Car()\n",
    "toyota = Car()"
   ]
  },
  {
   "cell_type": "markdown",
   "metadata": {},
   "source": [
    "##### In-Class Exercise #1 - Create a Class 'Car' and Instantiate three different makes of cars"
   ]
  },
  {
   "cell_type": "code",
   "execution_count": 11,
   "metadata": {},
   "outputs": [
    {
     "name": "stdout",
     "output_type": "stream",
     "text": [
      "4\n",
      "blue\n",
      "4\n",
      "4\n",
      "blue\n",
      "4\n",
      "4\n",
      "blue\n",
      "4\n"
     ]
    }
   ],
   "source": [
    "class Car():\n",
    "    doors = 4;\n",
    "    color = \"blue\"\n",
    "    wheels = 4\n",
    "\n",
    "honda = Car()\n",
    "bmw = Car()\n",
    "porsche = Car()\n",
    "\n",
    "print(honda.doors)\n",
    "print(honda.color)\n",
    "print(honda.wheels)\n",
    "print(bmw.doors)\n",
    "print(bmw.color)\n",
    "print(bmw.wheels)\n",
    "print(porsche.doors)\n",
    "print(porsche.color)\n",
    "print(porsche.wheels)"
   ]
  },
  {
   "cell_type": "markdown",
   "metadata": {},
   "source": [
    "## The \\__init\\__() Method <br>\n",
    "<p>This method is used in almost every created class, and called only once upon the creation of the class instance. This method will initialize all variables needed for the object.</p>"
   ]
  },
  {
   "cell_type": "code",
   "execution_count": 14,
   "metadata": {},
   "outputs": [
    {
     "name": "stdout",
     "output_type": "stream",
     "text": [
      "Black\n",
      "Blue\n",
      "4\n",
      "6\n"
     ]
    }
   ],
   "source": [
    "class Car():\n",
    "    engine = \"4.7L\" #GLOBAL INSIDE THE CLASS\n",
    "    \n",
    "    def __init__(self, color, wheels):\n",
    "        self.color = color\n",
    "        self.wheels = wheels\n",
    "    \n",
    "mazda = Car(\"Black\", 4)\n",
    "subaru = Car(\"Blue\", 6)\n",
    "\n",
    "print(mazda.color)\n",
    "print(subaru.color)\n",
    "print(mazda.wheels)\n",
    "print(subaru.wheels)"
   ]
  },
  {
   "cell_type": "markdown",
   "metadata": {},
   "source": [
    "##### The 'self' Attribute <br>\n",
    "<p>This attribute is required to keep track of specific instance's attributes. Without the self attribute, the program would not know how to reference or keep track of an instance's attributes.</p>"
   ]
  },
  {
   "cell_type": "code",
   "execution_count": 38,
   "metadata": {},
   "outputs": [
    {
     "name": "stdout",
     "output_type": "stream",
     "text": [
      "\n",
      "STATE: Alaska\n",
      "AREA: 665384 sq miles\n",
      "POPULATION: 733406 (7/1/23 est.)\n",
      "REGION: Non-Contiguous\n",
      "CAPTIAL CITY: Juneau\n",
      "LARGEST CITY: Anchorage\n",
      "\n",
      "STATE: California\n",
      "AREA: 163695 sq miles\n",
      "POPULATION: 38965193 (7/1/23 est.)\n",
      "REGION: West\n",
      "CAPTIAL CITY: Sacramento\n",
      "LARGEST CITY: Los Angeles\n",
      "\n",
      "STATE: Colorado\n",
      "AREA: 104094 sq miles\n",
      "POPULATION: 5877610 (7/1/23 est.)\n",
      "REGION: West\n",
      "CAPTIAL & LARGEST CITY: Denver\n",
      "\n",
      "STATE: Florida\n",
      "AREA: 65758 sq miles\n",
      "POPULATION: 22610726 (7/1/23 est.)\n",
      "REGION: South\n",
      "CAPTIAL CITY: Tallahassee\n",
      "LARGEST CITY: Jacksonville\n",
      "\n",
      "STATE: Hawaii\n",
      "AREA: 10932 sq miles\n",
      "POPULATION: 1435138 (7/1/23 est.)\n",
      "REGION: Non-Contiguous\n",
      "CAPTIAL & LARGEST CITY: Honolulu\n",
      "\n",
      "STATE: Illinois\n",
      "AREA: 57914 sq miles\n",
      "POPULATION: 12549689 (7/1/23 est.)\n",
      "REGION: Midwest\n",
      "CAPTIAL CITY: Springfield\n",
      "LARGEST CITY: Chicago\n",
      "\n",
      "STATE: Maryland\n",
      "AREA: 12406 sq miles\n",
      "POPULATION: 6180253 (7/1/23 est.)\n",
      "REGION: Mid-Atlantic\n",
      "CAPTIAL CITY: Annapolis\n",
      "LARGEST CITY: Baltimore\n",
      "\n",
      "STATE: Ohio\n",
      "AREA: 44826 sq miles\n",
      "POPULATION: 11785935 (7/1/23 est.)\n",
      "REGION: Midwest\n",
      "CAPTIAL & LARGEST CITY: Colombus\n",
      "\n",
      "STATE: Tennessee\n",
      "AREA: 42144 sq miles\n",
      "POPULATION: 7126489 (7/1/23 est.)\n",
      "REGION: South\n",
      "CAPTIAL & LARGEST CITY: Nashville\n",
      "\n",
      "STATE: Virginia\n",
      "AREA: 42775 sq miles\n",
      "POPULATION: 8715698 (7/1/23 est.)\n",
      "REGION: Mid-Atlantic\n",
      "CAPTIAL CITY: Richmond\n",
      "LARGEST CITY: Virginia Beach\n",
      "\n",
      "STATE: West Virginia\n",
      "AREA: 24230 sq miles\n",
      "POPULATION: 1770071 (7/1/23 est.)\n",
      "REGION: Mid-Atlantic\n",
      "CAPTIAL & LARGEST CITY: Charleston\n"
     ]
    }
   ],
   "source": [
    "# see above\n",
    "\n",
    "class State():\n",
    "    same_city = False\n",
    "    \n",
    "    def __init__(self, name, area, population, capital_city, largest_city, region):\n",
    "        self.name = name\n",
    "        self.area = area\n",
    "        self.population = population\n",
    "        self.capital_city = capital_city\n",
    "        self.largest_city = largest_city\n",
    "        self.region = region\n",
    "    \n",
    "    def displayState(self):\n",
    "        print(f\"\\nSTATE: {self.name}\")\n",
    "        print(f\"AREA: {self.area} sq miles\")\n",
    "        print(f\"POPULATION: {self.population} (7/1/23 est.)\")\n",
    "        print(f\"REGION: {self.region}\")\n",
    "        if self.capital_city.lower() == self.largest_city.lower():\n",
    "            print(f\"CAPTIAL & LARGEST CITY: {self.capital_city}\")\n",
    "        else:\n",
    "            print(f\"CAPTIAL CITY: {self.capital_city}\")\n",
    "            print(f\"LARGEST CITY: {self.largest_city}\")\n",
    "    \n",
    "ak = State(\"Alaska\", 665384, 733406, \"Juneau\", \"Anchorage\", \"Non-Contiguous\")\n",
    "ca = State(\"California\", 163695, 38965193, \"Sacramento\", \"Los Angeles\", \"West\")\n",
    "co = State(\"Colorado\", 104094, 5877610, \"Denver\", \"Denver\", \"West\")\n",
    "fl = State(\"Florida\", 65758, 22610726, \"Tallahassee\", \"Jacksonville\", \"South\")\n",
    "hi = State(\"Hawaii\", 10932, 1435138, \"Honolulu\", \"Honolulu\", \"Non-Contiguous\")\n",
    "il = State(\"Illinois\", 57914, 12549689, \"Springfield\", \"Chicago\", \"Midwest\")\n",
    "md = State(\"Maryland\", 12406, 6180253, \"Annapolis\", \"Baltimore\", \"Mid-Atlantic\")\n",
    "oh = State(\"Ohio\", 44826, 11785935, \"Colombus\", \"Colombus\", \"Midwest\")\n",
    "tn = State(\"Tennessee\", 42144, 7126489, \"Nashville\", \"Nashville\", \"South\")\n",
    "va = State(\"Virginia\", 42775, 8715698, \"Richmond\", \"Virginia Beach\", \"Mid-Atlantic\")\n",
    "wv = State(\"West Virginia\", 24230, 1770071, \"Charleston\", \"Charleston\", \"Mid-Atlantic\")\n",
    "\n",
    "ak.displayState()\n",
    "ca.displayState()\n",
    "co.displayState()\n",
    "fl.displayState()\n",
    "hi.displayState()\n",
    "il.displayState()\n",
    "md.displayState()\n",
    "oh.displayState()\n",
    "tn.displayState()\n",
    "va.displayState()\n",
    "wv.displayState()"
   ]
  },
  {
   "cell_type": "markdown",
   "metadata": {},
   "source": [
    "## Class Attributes <br>\n",
    "<p>While variables are inside of a class, they are referred to as attributes and not variables. When someone says 'attribute' you know they're speaking about a class. Attributes can be initialized through the init method, or outside of it.</p>"
   ]
  },
  {
   "cell_type": "markdown",
   "metadata": {},
   "source": [
    "##### Initializing Attributes"
   ]
  },
  {
   "cell_type": "code",
   "execution_count": 15,
   "metadata": {},
   "outputs": [],
   "source": [
    "# see above\n",
    "\n",
    "class Toy():\n",
    "    kind = \"car\" # Constant\n",
    "    \n",
    "    def __init__(self, rooftop, horn, wheels):\n",
    "        self.rooftop = rooftop #These are our attributes \n",
    "        self.horn = horn\n",
    "        self.wheels = wheels\n",
    "\n",
    "tonka_truck = Toy(1, 1, 4)\n",
    "hotwheels_car = Toy(2, 3, 8)"
   ]
  },
  {
   "cell_type": "markdown",
   "metadata": {},
   "source": [
    "##### Accessing Class Attributes"
   ]
  },
  {
   "cell_type": "code",
   "execution_count": 16,
   "metadata": {
    "scrolled": true
   },
   "outputs": [
    {
     "data": {
      "text/plain": [
       "1"
      ]
     },
     "execution_count": 16,
     "metadata": {},
     "output_type": "execute_result"
    }
   ],
   "source": [
    "# See Above\n",
    "\n",
    "tonka_truck.rooftop"
   ]
  },
  {
   "cell_type": "markdown",
   "metadata": {},
   "source": [
    "##### Setting Defaults for Attributes"
   ]
  },
  {
   "cell_type": "code",
   "execution_count": 18,
   "metadata": {},
   "outputs": [
    {
     "data": {
      "text/plain": [
       "'Blue'"
      ]
     },
     "execution_count": 18,
     "metadata": {},
     "output_type": "execute_result"
    }
   ],
   "source": [
    "class Car():\n",
    "    engine = \"4.7L\"\n",
    "    \n",
    "    def __init__(self, wheels):\n",
    "        self.wheels = wheels\n",
    "        self.color = \"Blue\"\n",
    "\n",
    "honda = Car(4)\n",
    "honda.color"
   ]
  },
  {
   "cell_type": "markdown",
   "metadata": {},
   "source": [
    "##### Changing Class Attributes <br>\n",
    "<p>Keep in mind there are global class attributes and then there are attributes only available to each class instance which won't effect other classes.</p>"
   ]
  },
  {
   "cell_type": "code",
   "execution_count": 20,
   "metadata": {},
   "outputs": [
    {
     "name": "stdout",
     "output_type": "stream",
     "text": [
      "Before Change: Blue\n",
      "After Change: White\n"
     ]
    }
   ],
   "source": [
    "jeep = Car(8)\n",
    "\n",
    "print(f\"Before Change: {jeep.color}\")\n",
    "\n",
    "jeep.color = \"White\"\n",
    "      \n",
    "print(f\"After Change: {jeep.color}\")"
   ]
  },
  {
   "cell_type": "code",
   "execution_count": null,
   "metadata": {},
   "outputs": [],
   "source": []
  },
  {
   "cell_type": "markdown",
   "metadata": {},
   "source": [
    "##### In-Class Exercise #2 - Add a doors and seats attribute to your 'Car' class then print out two different instances with different doors and seats"
   ]
  },
  {
   "cell_type": "code",
   "execution_count": 26,
   "metadata": {},
   "outputs": [
    {
     "name": "stdout",
     "output_type": "stream",
     "text": [
      "BMW z4 has 2 doors and 2 seats.\n",
      "Subaru Outback has 4 doors and 5 seats.\n",
      "Honda Pilot has 4 doors and 8 seats.\n"
     ]
    }
   ],
   "source": [
    "class Car():\n",
    "    def __init__(self, doors, seats):\n",
    "        self.doors = doors\n",
    "        self.seats = seats\n",
    "\n",
    "bmw_z4 = Car(2, 2)\n",
    "subaru_outback = Car(4, 5)\n",
    "honda_pilot = Car(4, 8)\n",
    "\n",
    "print(f\"BMW z4 has {bmw_z4.doors} doors and {bmw_z4.seats} seats.\")\n",
    "print(f\"Subaru Outback has {subaru_outback.doors} doors and {subaru_outback.seats} seats.\")\n",
    "print(f\"Honda Pilot has {honda_pilot.doors} doors and {honda_pilot.seats} seats.\")"
   ]
  },
  {
   "cell_type": "markdown",
   "metadata": {},
   "source": [
    "## Class Methods <br>\n",
    "<p>While inside of a class, functions are referred to as 'methods'. If you hear someone mention methods, they're speaking about classes. Methods are essentially functions, but only callable on the instances of a class.</p>"
   ]
  },
  {
   "cell_type": "markdown",
   "metadata": {},
   "source": [
    "##### Creating"
   ]
  },
  {
   "cell_type": "code",
   "execution_count": 67,
   "metadata": {},
   "outputs": [],
   "source": [
    "class ShoppingBag():\n",
    "    \"\"\"\n",
    "        The ShoppingBag class will have handles, capacity, \n",
    "        and items to place inside.\n",
    "        \n",
    "        Attribuites for the class:\n",
    "        - handles: expected to be an integer\n",
    "        - capacity: expected to be a string OR an integer\n",
    "        - items: expected to be a list\n",
    "    \"\"\"\n",
    "    \n",
    "    def __init__(self, handles, capacity, items):\n",
    "        self.handles = handles\n",
    "        self.capacity = capacity\n",
    "        self.items = items\n",
    "        \n",
    "    # Write a method that shows the items in our ShoppingBag / This is our items list\n",
    "    def showShoppingBag(self):\n",
    "        if self.items == []:\n",
    "            print(\"You have nothing in your bag!\")\n",
    "        else:\n",
    "            print(\"You have items in you bag!\")\n",
    "            for item in self.items:\n",
    "                print(item)\n",
    "        if len(self.items) >= self.capacity:\n",
    "            print(\"Your bag is now full\")\n",
    "    \n",
    "    # Show the capacity of ShoppingBag - how much room is left\n",
    "    def showCapacity(self):\n",
    "        print(f\"Your capacity is: {self.capacity}\")\n",
    "    \n",
    "    # Add item(s) to the items list for the ShoppingList\n",
    "    def addToShoppingBag(self):\n",
    "        products = input(\"What would you like to add? \")\n",
    "        if len(self.items) >= self.capacity:\n",
    "            print(f\"Opps, your bag is full! Your capacity is {self.capacity}\")\n",
    "        else:\n",
    "            self.items.append(products)\n",
    "    \n",
    "    # Change the capacity of the ShoppingBag\n",
    "    def changeBagCapacity(self, capacity):\n",
    "        self.capacity = capacity\n",
    "        \n",
    "    # Increase the capacity of the ShoppingBag by default amount that we set to 10\n",
    "    def increaseCapacity(self, changed_capacity = 10):\n",
    "        if self.capacity == isinstance(self.capacity, str):\n",
    "            print(\"We can't add that here\")\n",
    "        else:\n",
    "            self.capacity += changed_capacity\n",
    "        "
   ]
  },
  {
   "cell_type": "markdown",
   "metadata": {},
   "source": [
    "##### Calling"
   ]
  },
  {
   "cell_type": "code",
   "execution_count": 75,
   "metadata": {},
   "outputs": [
    {
     "name": "stdout",
     "output_type": "stream",
     "text": [
      "What do you want to do? add/show/quit add\n",
      "What would you like to add? uno\n",
      "What do you want to do? add/show/quit add\n",
      "What would you like to add? dos\n",
      "What do you want to do? add/show/quit add\n",
      "What would you like to add? tres\n",
      "What do you want to do? add/show/quit quit\n",
      "You have items in you bag!\n",
      "uno\n",
      "dos\n",
      "tres\n",
      "Thanks for shopping!\n"
     ]
    }
   ],
   "source": [
    "# See Above\n",
    "# So far, we created the idea of the shopping bag; now we will actually instantiate and MAKE one, and use it!\n",
    "wholeFoods_bag = ShoppingBag(2, 10, [])\n",
    "\n",
    "# Create a function to run the ShoppingBag methods on our wholeFoods_bag instance\n",
    "def run():\n",
    "    while True:\n",
    "        response = input(\"What do you want to do? add/show/quit \")\n",
    "        \n",
    "        if response.lower() == \"quit\":\n",
    "            wholeFoods_bag.showShoppingBag()\n",
    "            print(\"Thanks for shopping!\")\n",
    "            break\n",
    "        elif response.lower() == \"add\":\n",
    "            wholeFoods_bag.addToShoppingBag()\n",
    "        elif response.lower() == \"show\":\n",
    "            wholeFoods_bag.showShoppingBag()\n",
    "        else:\n",
    "            print(\"Try another command\")\n",
    "\n",
    "run()"
   ]
  },
  {
   "cell_type": "markdown",
   "metadata": {},
   "source": [
    "##### Modifying an Attribute's Value Through a Method"
   ]
  },
  {
   "cell_type": "code",
   "execution_count": 76,
   "metadata": {},
   "outputs": [
    {
     "name": "stdout",
     "output_type": "stream",
     "text": [
      "Your capacity is: 10\n",
      "Capacity AFTER the change...\n",
      "Your capacity is: 40\n"
     ]
    }
   ],
   "source": [
    "# Show the capacity\n",
    "wholeFoods_bag.showCapacity()\n",
    "\n",
    "print(\"Capacity AFTER the change...\")\n",
    "wholeFoods_bag.changeBagCapacity(40)\n",
    "wholeFoods_bag.showCapacity()"
   ]
  },
  {
   "cell_type": "markdown",
   "metadata": {},
   "source": [
    "##### Incrementing an Attribute's Value Through a Method"
   ]
  },
  {
   "cell_type": "code",
   "execution_count": 77,
   "metadata": {},
   "outputs": [
    {
     "name": "stdout",
     "output_type": "stream",
     "text": [
      "Your capacity is: 40\n",
      "After increase\n",
      "Your capacity is: 50\n"
     ]
    }
   ],
   "source": [
    "wholeFoods_bag.showCapacity()\n",
    "print(\"After increase\")\n",
    "wholeFoods_bag.increaseCapacity()\n",
    "wholeFoods_bag.showCapacity()"
   ]
  },
  {
   "cell_type": "markdown",
   "metadata": {},
   "source": [
    "##### In-Class Exercise #3 - Add a method that takes in three parameters of year, doors and seats and prints out a formatted print statement with make, model, year, seats, and doors"
   ]
  },
  {
   "cell_type": "code",
   "execution_count": 81,
   "metadata": {},
   "outputs": [
    {
     "name": "stdout",
     "output_type": "stream",
     "text": [
      "This car is from 2019 and is a Ford Explorer and has 4 doors and 5 seats\n",
      "This car is from 2016 and is a Honda Pilot and has 4 doors and 8 seats\n",
      "This car is from 2008 and is a Subaru Tribeca and has 4 doors and 5 seats\n",
      "This car is from 2025 and is a BMW X1 and has 4 doors and 5 seats\n"
     ]
    }
   ],
   "source": [
    "# Create class with 2 paramters inside of the __init__ which are make and model\n",
    "\n",
    "# Inside of the Car class create a method that has 4 parameter in total (self,year,door,seats)\n",
    "\n",
    "# Output: This car is from 2019 and is a Ford Expolorer and has 4 doors and 5 seats\n",
    "\n",
    "class Car():\n",
    "    \n",
    "    def __init__(self, make, model):\n",
    "        self.make = make\n",
    "        self.model = model\n",
    "    \n",
    "    def displayCar(self, year, door, seats):\n",
    "        print(f\"This car is from {year} and is a {self.make} {self.model} and has {door} doors and {seats} seats\")\n",
    "    \n",
    "ford_explorer = Car(\"Ford\", \"Explorer\")\n",
    "honda_pilot = Car(\"Honda\", \"Pilot\")\n",
    "subaru_tribeca = Car(\"Subaru\", \"Tribeca\")\n",
    "bmw_x1 = Car(\"BMW\", \"X1\")\n",
    "\n",
    "ford_explorer.displayCar(2019, 4, 5)\n",
    "honda_pilot.displayCar(2016, 4, 8)\n",
    "subaru_tribeca.displayCar(2008, 4, 5)\n",
    "bmw_x1.displayCar(2025, 4, 5)"
   ]
  },
  {
   "cell_type": "markdown",
   "metadata": {},
   "source": [
    "## Inheritance <br>\n",
    "<p>You can create a child-parent relationship between two classes by using inheritance. What this allows you to do is have overriding methods, but also inherit traits from the parent class. Think of it as an actual parent and child, the child will inherit the parent's genes, as will the classes in OOP</p>"
   ]
  },
  {
   "cell_type": "markdown",
   "metadata": {},
   "source": [
    "##### Syntax for Inheriting from a Parent Class"
   ]
  },
  {
   "cell_type": "code",
   "execution_count": 96,
   "metadata": {},
   "outputs": [
    {
     "name": "stdout",
     "output_type": "stream",
     "text": [
      "Bark\n",
      "Make some generic sound\n",
      "None\n",
      "9.8\n",
      "15\n"
     ]
    }
   ],
   "source": [
    "class Animal():\n",
    "    acceleration = 9.8\n",
    "    \n",
    "    def __init__(self, name, species, legs = 4):\n",
    "        self.name = name\n",
    "        self.species = species\n",
    "        self.legs = legs\n",
    "    \n",
    "    def makeSound(self):\n",
    "        print(\"Make some generic sound\")\n",
    "    \n",
    "class Dog(Animal):\n",
    "    speed = 15\n",
    "    \n",
    "    def printInfo(self):\n",
    "        print(f\"The Dog has {self.speed}mph in speed and {self.acceleration}\")\n",
    "\n",
    "class Mutt(Dog):\n",
    "    color = \"Tan\"\n",
    "    \n",
    "    def __init__(self, name, species, eye_color, legs = 4):\n",
    "        Dog.__init__(self, name, species, legs)\n",
    "        self.eye_color = eye_color\n",
    "    \n",
    "    def makeSound(self):\n",
    "        noise = \"Bark\"\n",
    "        return noise\n",
    "\n",
    "lassie = Dog(\"Lassie\", \"Dog\")\n",
    "basic_animal = Animal(\"Generic Animal Name\", \"Generic Animal Species\")\n",
    "buster = Mutt(\"Buster\", \"Mutt\", \"Brown\")\n",
    "\n",
    "print(buster.makeSound())\n",
    "print(lassie.makeSound())\n",
    "print(buster.acceleration)\n",
    "# print(basic_animal.speed)\n",
    "print(buster.speed)"
   ]
  },
  {
   "cell_type": "markdown",
   "metadata": {},
   "source": [
    "##### The \\__init\\__() Method for a Child Class - super()"
   ]
  },
  {
   "cell_type": "code",
   "execution_count": 97,
   "metadata": {
    "scrolled": true
   },
   "outputs": [
    {
     "name": "stdout",
     "output_type": "stream",
     "text": [
      "Bark\n",
      "Make some generic sound\n",
      "None\n",
      "9.8\n",
      "15\n"
     ]
    }
   ],
   "source": [
    "class Puppy(Dog):\n",
    "    color = \"black and brown\"\n",
    "    \n",
    "    def __init__(self, name, species, eye_color, legs = 4):\n",
    "        super().__init__(name, species, legs)\n",
    "        self.eye_color = eye_color\n",
    "    \n",
    "    def makeSound(self):\n",
    "        noise = \"Bark\"\n",
    "        return noise\n",
    "    \n",
    "lassie = Dog(\"Lassie\", \"Dog\")\n",
    "basic_animal = Animal(\"Generic Animal Name\", \"Generic Animal Species\")\n",
    "buster = Mutt(\"Buster\", \"Mutt\", \"Brown\")\n",
    "\n",
    "print(buster.makeSound())\n",
    "print(lassie.makeSound())\n",
    "print(buster.acceleration)\n",
    "# print(basic_animal.speed)\n",
    "print(buster.speed)\n",
    "        "
   ]
  },
  {
   "cell_type": "markdown",
   "metadata": {},
   "source": [
    "##### Defining Attributes and Methods for the Child Class"
   ]
  },
  {
   "cell_type": "code",
   "execution_count": null,
   "metadata": {},
   "outputs": [],
   "source": [
    "# See Above"
   ]
  },
  {
   "cell_type": "markdown",
   "metadata": {},
   "source": [
    "##### Method Overriding"
   ]
  },
  {
   "cell_type": "code",
   "execution_count": null,
   "metadata": {},
   "outputs": [],
   "source": [
    "# See Above"
   ]
  },
  {
   "cell_type": "markdown",
   "metadata": {},
   "source": [
    "## Classes as Attributes <br>\n",
    "<p>Classes can also be used as attributes within another class. This is useful in situations where you need to keep variables locally stored, instead of globally stored.</p>"
   ]
  },
  {
   "cell_type": "code",
   "execution_count": null,
   "metadata": {},
   "outputs": [],
   "source": [
    "class Battery():\n",
    "    volts = 7.8\n",
    "    def __init__(self, cells):\n",
    "        self.cells = cells\n",
    "\n",
    "class Car():\n",
    "    def __init__(self, year, make, model, battery):\n",
    "        self.year = year\n",
    "        self.make = make\n",
    "        self.model = model\n",
    "        self.battery = battery\n",
    "    \n",
    "    def printInfo(self):\n",
    "        return f\"{self.year} {self.make} {self.model} {self.battery.cells}\"\n",
    "    \n",
    "my_battery = Battery(20)\n",
    "\n",
    "tesla = Car(2019, \"Tesla\", \"Model X\", my_battery)\n",
    "\n",
    "print(tesla.battery.cells)\n",
    "tesla.printInfo()"
   ]
  },
  {
   "cell_type": "markdown",
   "metadata": {},
   "source": [
    "# Exercises"
   ]
  },
  {
   "cell_type": "markdown",
   "metadata": {},
   "source": [
    "### Exercise 1 - Turn the shopping cart program from yesterday into an object-oriented program\n",
    "\n",
    "The comments in the cell below are there as a guide for thinking about the problem. However, if you feel a different way is best for you and your own thought process, please do what feels\n",
    "best for you by all means."
   ]
  },
  {
   "cell_type": "code",
   "execution_count": 39,
   "metadata": {},
   "outputs": [
    {
     "name": "stdout",
     "output_type": "stream",
     "text": [
      "Welcome to Lind's Local Shop, type in the option below:\n",
      "\n",
      "type \"add\" to add item\n",
      "type \"edit\" to edit item\n",
      "type \"remove\" to remove item\n",
      "type \"show\" to show cart\n",
      "type \"size\" to change cart size\n",
      "type \"finish\" to finish shopping\n",
      "type \"quit\" to cancel shopping\n",
      "ENTER HERE: add\n",
      "\n",
      "What items do you want to add?\n",
      "ENTER HERE: Cheese\n",
      "\n",
      "Enter the amount of the item?\n",
      "ENTER HERE: 2\n",
      "\n",
      "ADDED Cheese with the price of $25.66\n",
      "\n",
      "type \"add\" to add item\n",
      "type \"edit\" to edit item\n",
      "type \"remove\" to remove item\n",
      "type \"show\" to show cart\n",
      "type \"size\" to change cart size\n",
      "type \"finish\" to finish shopping\n",
      "type \"quit\" to cancel shopping\n",
      "ENTER HERE: edit\n",
      "\n",
      "What item do you want to edit?\n",
      "ENTER HERE: Cheese\n",
      "Change the amount of the item\n",
      "ENTER HERE: 3\n",
      "\n",
      "CHANGED THE AMOUNT OF Cheese to 3 with the price of $38.49\n",
      "\n",
      "type \"add\" to add item\n",
      "type \"edit\" to edit item\n",
      "type \"remove\" to remove item\n",
      "type \"show\" to show cart\n",
      "type \"size\" to change cart size\n",
      "type \"finish\" to finish shopping\n",
      "type \"quit\" to cancel shopping\n",
      "ENTER HERE: finish\n",
      "\n",
      "Here is the recept\n",
      "ITEM Cheese, AMOUNT: 3, PRICE: $38.49\n",
      "COMBINED PRICE: $38.49\n",
      "TAX PRICE: $2.31\n",
      "TOTAL PRICE: $40.80\n",
      "\n",
      "THANK YOU FOR SHOPPING WITH US!\n"
     ]
    }
   ],
   "source": [
    "# Create a class called cart that retains items and has methods to add, remove, and show\n",
    "\n",
    "# Cart() class has the operations of a shopping cart\n",
    "# Control() class has the controls of the shopping cart\n",
    "# UserOutput() class allows user input/output to control the other two classes and their methods\n",
    "\n",
    "# There is a cart dictionary where the key is the item and each has a \"value\", which is the \n",
    "# price of the item. An \"amount\", which is the number of that item, and a \"price\", which is the \n",
    "# price of the item when mulitiplied by the number of the item\n",
    "\n",
    "from IPython.display import clear_output\n",
    "import random\n",
    "\n",
    "class Cart():\n",
    "    \n",
    "    #Enter the capacity of the cart (an integer)\n",
    "    def __init__(self, capacity):\n",
    "        self.capacity = capacity\n",
    "    \n",
    "    # This adds an item\n",
    "    def addItem(self, item, amount):\n",
    "        value = random.randrange(99, 1999) / 100\n",
    "        price = value * amount\n",
    "        i = 0\n",
    "        for k in cart.keys():\n",
    "            i += 1\n",
    "            print(i)\n",
    "        if i < self.capacity:\n",
    "            cart[item] = {\n",
    "                \"value\": value,\n",
    "                \"amount\": amount,\n",
    "                \"price\": price\n",
    "            }\n",
    "            print(\"\\nADDED {} with the price of ${:.2f}\".format(item, price))\n",
    "        else:\n",
    "            print(\"\\nERROR: your cart is full\")\n",
    "    \n",
    "    # This changes the amount of the item in the cart\n",
    "    def changeAmount(self, item, amount):\n",
    "        item_exist = False\n",
    "        for a in cart.keys():\n",
    "            if a == item:\n",
    "                item_exist = True\n",
    "                break\n",
    "        if item_exist == True:\n",
    "            cart[item][\"amount\"] = amount\n",
    "            cart[item][\"price\"] = cart[item][\"value\"] * amount\n",
    "            print(\"\\nCHANGED THE AMOUNT OF {} to {} with the price of ${:.2f}\".format(item, amount, cart[item][\"price\"]))\n",
    "        else:\n",
    "            print(f\"ERROR: {item} cannot be found in cart\")\n",
    "    \n",
    "    # This deletes the item\n",
    "    def deleteItem(self, item):\n",
    "        item_exist = False\n",
    "        for a in cart.keys():\n",
    "            if a == item:\n",
    "                item_exist = True\n",
    "                break\n",
    "        if item_exist == True:\n",
    "            del cart[item]\n",
    "            print(f\"\\nREMOVED {item} from the cart\")\n",
    "        else:\n",
    "            print(f\"ERROR: {item} cannot be found in cart\")\n",
    "    \n",
    "    # This shows you the cart so far\n",
    "    def showCart(self):\n",
    "        added = 0\n",
    "        space = self.capacity - len(cart)\n",
    "        print(\"\\nHere is the cart so far...\")\n",
    "        if cart == {}:\n",
    "            print(\"NOTHING\")\n",
    "        else:\n",
    "            for item, b in cart.items():\n",
    "                for c, d in b.items():\n",
    "                    if c == \"amount\":\n",
    "                        amount = d\n",
    "                    if c == \"price\":\n",
    "                        price = d\n",
    "                        added += d\n",
    "                        print(\"ITEM {}, AMOUNT: {}, PRICE: ${:.2f}\".format(item, amount, price))\n",
    "            print(\"COMBINED PRICE: ${:.2f}\".format(added))\n",
    "            if len(cart) >= self.capacity:\n",
    "                print(\"You cart is filled, if you want more items, increase the size of the cart or remove some items\")\n",
    "        print(f\"CART SIZE: {self.capacity}\")\n",
    "        print(f\"SPACE LEFT: {space}\")\n",
    "    \n",
    "    # This shows you the capacity of the cart\n",
    "    def showCapacity(self):\n",
    "        print(f\"\\nCurrent size: {self.capacity}\")\n",
    "    \n",
    "    # This lets you to change the capacity of the cart\n",
    "    def changeCapacity(self, updated_capacity):\n",
    "        if len(cart) > updated_capacity:\n",
    "            print(\"ERROR: You have a larger number of items than the new cart size\")\n",
    "        else:\n",
    "            self.capacity = updated_capacity\n",
    "            print(f\"Successfully changed the size of the cart to {updated_capacity}\")\n",
    "    \n",
    "    # This concludes the cart and shows you a reciept\n",
    "    def concludeCart(self):\n",
    "        added = 0\n",
    "        print(\"\\nHere is the recept\")\n",
    "        if cart == {}:\n",
    "            print(\"NOTHING\")\n",
    "        else:\n",
    "            for item, b in cart.items():\n",
    "                for c, d in b.items():\n",
    "                    if c == \"amount\":\n",
    "                        amount = d\n",
    "                    if c == \"price\":\n",
    "                        price = d\n",
    "                        added += d\n",
    "                        print(\"ITEM {}, AMOUNT: {}, PRICE: ${:.2f}\".format(item, amount, price))\n",
    "            tax = 0.06 * added\n",
    "            total = tax + added\n",
    "            print(\"COMBINED PRICE: ${:.2f}\".format(added))\n",
    "            print(\"TAX PRICE: ${:.2f}\".format(tax))\n",
    "            print(\"TOTAL PRICE: ${:.2f}\".format(total))\n",
    "            print(\"\\nTHANK YOU FOR SHOPPING WITH US!\")\n",
    "\n",
    "class Control():    \n",
    "    def input_add(self):\n",
    "        print(\"\\nWhat items do you want to add?\")\n",
    "        input_item = input(\"ENTER HERE: \")\n",
    "        print(\"\\nEnter the amount of the item?\")\n",
    "        input_amount = int(input(\"ENTER HERE: \"))\n",
    "        if input_amount <= 0:\n",
    "            input_amount = 1\n",
    "            print(\"\\nERROR: You cannot enter amount out of range, it is set as 1\")\n",
    "        container.addItem(input_item, input_amount)\n",
    "    \n",
    "    def input_edit(self):\n",
    "        print(\"\\nWhat item do you want to edit?\")\n",
    "        input_item = input(\"ENTER HERE: \")\n",
    "        print(\"Change the amount of the item\")\n",
    "        input_amount = int(input(\"ENTER HERE: \"))\n",
    "        if input_amount <= 0:\n",
    "            input_amount = 1\n",
    "            print(\"\\nERROR: You cannot enter amount out of range, it is set as 1\")\n",
    "        container.changeAmount(input_item, input_amount)\n",
    "    \n",
    "    def input_remove(self):\n",
    "        print(\"\\nWhat item do you want to remove?\")\n",
    "        input_item = input(\"ENTER HERE: \")\n",
    "        container.deleteItem(input_item)\n",
    "    \n",
    "    def input_show(self):\n",
    "        container.showCart()\n",
    "    \n",
    "    def input_size(self):\n",
    "        container.showCapacity()\n",
    "        while True:\n",
    "            print(\"What size do you want?\")\n",
    "            print('\\ntype \"small\" for the size of 10')\n",
    "            print('type \"medium\" for the size of 20')\n",
    "            print('type \"large\" for the size of 50')\n",
    "            print('type \"super\" for the size of 75')\n",
    "            input_choice = input(\"ENTER HERE: \")\n",
    "            clear_output\n",
    "            if input_choice.lower() == \"small\":\n",
    "                container.changeCapacity(10)\n",
    "                break\n",
    "            elif input_choice.lower() == \"medium\":\n",
    "                container.changeCapacity(20)\n",
    "                break\n",
    "            elif input_choice.lower() == \"large\":\n",
    "                container.changeCapacity(50)\n",
    "                break\n",
    "            elif input_choice.lower() == \"super\":\n",
    "                container.changeCapacity(75)\n",
    "                break\n",
    "            else:\n",
    "                print(\"ERROR: Wrong input\")\n",
    "    \n",
    "    def input_finish(self):\n",
    "        container.concludeCart()\n",
    "        \n",
    "\n",
    "class UserOutput():\n",
    "    def interface(x):\n",
    "        control = Control()\n",
    "        print(\"Welcome to Lind's Local Shop, type in the option below:\")\n",
    "        while True:\n",
    "            print('\\ntype \"add\" to add item')\n",
    "            print('type \"edit\" to edit item')\n",
    "            print('type \"remove\" to remove item')\n",
    "            print('type \"show\" to show cart')\n",
    "            print('type \"size\" to change cart size')\n",
    "            print('type \"finish\" to finish shopping')\n",
    "            print('type \"quit\" to cancel shopping')\n",
    "            input_choice = input(\"ENTER HERE: \")\n",
    "            clear_output\n",
    "\n",
    "            if input_choice.lower() == \"add\":\n",
    "                control.input_add()\n",
    "            elif input_choice.lower() == \"edit\":\n",
    "                control.input_edit()\n",
    "            elif input_choice.lower() == \"remove\":\n",
    "                control.input_remove()\n",
    "            elif input_choice.lower() == \"show\":\n",
    "                control.input_show()\n",
    "            elif input_choice.lower() == \"size\":\n",
    "                control.input_size()\n",
    "            elif input_choice.lower() == \"finish\":\n",
    "                control.input_finish()\n",
    "                break\n",
    "            elif input_choice.lower() == \"quit\":\n",
    "                print(\"Sale Cancelled, thank you for shopping with us!\")\n",
    "                break\n",
    "            else:\n",
    "                print(\"\\nERROR: Wrong input\")\n",
    "\n",
    "cart = {}\n",
    "container = Cart(10)\n",
    "output = UserOutput()\n",
    "\n",
    "output.interface()"
   ]
  },
  {
   "cell_type": "code",
   "execution_count": null,
   "metadata": {},
   "outputs": [],
   "source": []
  },
  {
   "cell_type": "markdown",
   "metadata": {},
   "source": [
    "### Exercise 1 - Turn the shopping cart program from yesterday into an object-oriented program\n",
    "\n",
    "The comments in the cell below are there as a guide for thinking about the problem. However, if you feel a different way is best for you and your own thought process, please do what feels\n",
    "best for you by all means."
   ]
  },
  {
   "cell_type": "markdown",
   "metadata": {},
   "source": [
    "### Exercise 2 - Write a Python class which has two methods get_String and print_String. get_String accept a string from the user and print_String print the string in upper case"
   ]
  },
  {
   "cell_type": "code",
   "execution_count": null,
   "metadata": {},
   "outputs": [],
   "source": []
  },
  {
   "cell_type": "code",
   "execution_count": 7,
   "metadata": {},
   "outputs": [
    {
     "name": "stdout",
     "output_type": "stream",
     "text": [
      "Enter the text that you want to enter: MineCrafT\n",
      "MINECRAFT\n"
     ]
    }
   ],
   "source": [
    "class useString():\n",
    "    def __init__(self):\n",
    "            input_text = \" \"\n",
    "    \n",
    "    def get_String(self):\n",
    "        self.input_text = input(\"Enter the text that you want to enter: \")\n",
    "    \n",
    "    def print_String(self):\n",
    "        print(self.input_text.upper())\n",
    "\n",
    "string_input = useString()\n",
    "\n",
    "string_input.get_String()\n",
    "string_input.print_String()"
   ]
  },
  {
   "cell_type": "code",
   "execution_count": null,
   "metadata": {},
   "outputs": [],
   "source": []
  }
 ],
 "metadata": {
  "kernelspec": {
   "display_name": "Python 3 (ipykernel)",
   "language": "python",
   "name": "python3"
  },
  "language_info": {
   "codemirror_mode": {
    "name": "ipython",
    "version": 3
   },
   "file_extension": ".py",
   "mimetype": "text/x-python",
   "name": "python",
   "nbconvert_exporter": "python",
   "pygments_lexer": "ipython3",
   "version": "3.11.5"
  }
 },
 "nbformat": 4,
 "nbformat_minor": 2
}
